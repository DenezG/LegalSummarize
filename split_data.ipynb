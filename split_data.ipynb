{
 "cells": [
  {
   "cell_type": "code",
   "execution_count": 7,
   "id": "31968d7e",
   "metadata": {},
   "outputs": [],
   "source": [
    "import pandas as pd\n",
    "import json\n",
    "from sklearn.model_selection import train_test_split"
   ]
  },
  {
   "cell_type": "code",
   "execution_count": 9,
   "id": "1757af88",
   "metadata": {},
   "outputs": [
    {
     "name": "stdout",
     "output_type": "stream",
     "text": [
      "Number of duplicate URLs: 36\n",
      "Number of cases before removing duplicates: 2756\n",
      "Number of cases after removing duplicates: 2720\n"
     ]
    }
   ],
   "source": [
    "with open('data/train.json') as f:\n",
    "    data = json.load(f)\n",
    "\n",
    "all_cases = []\n",
    "for year, cases in data.items():\n",
    "    for case in cases:\n",
    "        year1, year2 = year.split('-') if '-' in year else (year, year)\n",
    "        case['year'] = (int(year1) + int(year2)) // 2  # Average year if it's a range (ex: 1900-1940)\n",
    "        all_cases.append(case)\n",
    "\n",
    "df = pd.DataFrame(all_cases)\n",
    "\n",
    "# Remove duplicates based on 'links' column\n",
    "print(f\"Number of duplicate URLs: {df['links'].duplicated().sum()}\")\n",
    "print(f\"Number of cases before removing duplicates: {len(df)}\")\n",
    "df = df.drop_duplicates(subset=['links'], keep='first')\n",
    "print(f\"Number of cases after removing duplicates: {len(df)}\")\n",
    "\n",
    "# Reset index to have consecutive indices from 0 to len(df)-1\n",
    "df = df.reset_index(drop=True)"
   ]
  },
  {
   "cell_type": "code",
   "execution_count": 10,
   "id": "5eaee08d",
   "metadata": {},
   "outputs": [
    {
     "name": "stdout",
     "output_type": "stream",
     "text": [
      "Number of cases where summary is longer than opinion: 30\n",
      "Number of cases before removing summary's outliers: 2720\n",
      "Number of cases after removing summary's outliers: 2690\n"
     ]
    }
   ],
   "source": [
    "remove_before_2003 = []\n",
    "for i, row in df.iterrows():\n",
    "    parsed = row['written_opinion']['parsed']\n",
    "    summary = row['Summary']\n",
    "    nb_words_opinion = 0\n",
    "    nb_words_summary = 0\n",
    "    for _, value in parsed.items():\n",
    "        nb_words_opinion += len(value)\n",
    "    for _, value in summary.items():\n",
    "        nb_words_summary += len(value)\n",
    "    if nb_words_opinion < nb_words_summary:\n",
    "        remove_before_2003.append(i)\n",
    "print(f\"Number of cases where summary is longer than opinion: {len(remove_before_2003)}\")\n",
    "print(f\"Number of cases before removing summary's outliers: {len(df)}\")\n",
    "df = df.drop(index=remove_before_2003)\n",
    "df = df.reset_index(drop=True)\n",
    "print(f\"Number of cases after removing summary's outliers: {len(df)}\")"
   ]
  },
  {
   "cell_type": "markdown",
   "id": "d41aef4f",
   "metadata": {},
   "source": [
    "# Removes cases before 2003"
   ]
  },
  {
   "cell_type": "code",
   "execution_count": 11,
   "id": "617cf467",
   "metadata": {},
   "outputs": [
    {
     "name": "stdout",
     "output_type": "stream",
     "text": [
      "Number of cases before 2003: 1570\n",
      "Number of cases before removing 2003: 2690\n",
      "Number of cases after removing those before 2003: 1120\n"
     ]
    }
   ],
   "source": [
    "#remove all the cases before 2003\n",
    "remove_before_2003 = []\n",
    "for i, row in df.iterrows():\n",
    "    if row['year'] < 2003:\n",
    "        remove_before_2003.append(i)\n",
    "print(f\"Number of cases before 2003: {len(remove_before_2003)}\")\n",
    "print(f\"Number of cases before removing 2003: {len(df)}\")\n",
    "df = df.drop(index=remove_before_2003)\n",
    "df = df.reset_index(drop=True)\n",
    "print(f\"Number of cases after removing those before 2003: {len(df)}\")"
   ]
  },
  {
   "cell_type": "markdown",
   "id": "ac2e843c",
   "metadata": {},
   "source": [
    "# Remove cases with only Per Curiam"
   ]
  },
  {
   "cell_type": "code",
   "execution_count": 12,
   "id": "1424a9ec",
   "metadata": {},
   "outputs": [
    {
     "name": "stdout",
     "output_type": "stream",
     "text": [
      "Number of cases with only Per Curiam: 57\n",
      "Number of cases before removing Per Curiam: 1120\n",
      "Number of cases after removing Per Curiam: 1063\n"
     ]
    }
   ],
   "source": [
    "remove_curiam = []\n",
    "for i, row in df.iterrows():\n",
    "    parsed_keys = row['written_opinion']['parsed'].keys()\n",
    "    if len(parsed_keys) == 1:\n",
    "        remove_curiam.append(i)\n",
    "print(f\"Number of cases with only Per Curiam: {len(remove_curiam)}\")\n",
    "print(f\"Number of cases before removing Per Curiam: {len(df)}\")\n",
    "df = df.drop(index=remove_curiam)\n",
    "df = df.reset_index(drop=True)\n",
    "print(f\"Number of cases after removing Per Curiam: {len(df)}\")"
   ]
  },
  {
   "cell_type": "markdown",
   "id": "c969897a",
   "metadata": {},
   "source": [
    "# Split the dataset in train, dev, test"
   ]
  },
  {
   "cell_type": "code",
   "execution_count": 14,
   "id": "e1bf40d0",
   "metadata": {},
   "outputs": [],
   "source": [
    "#split the dataset in train, dev, test\n",
    "train_df, temp_df = train_test_split(df, test_size=0.2, random_state=42)\n",
    "dev_df, test_df = train_test_split(temp_df, test_size=0.5, random_state=42)\n",
    "#save the datasets as csv files\n",
    "#create the folder data/easy if it doesn't exist\n",
    "import os\n",
    "if not os.path.exists('data/easy'):\n",
    "    os.makedirs('data/easy')\n",
    "train_df.to_csv('data/easy/train.csv', index=False)\n",
    "dev_df.to_csv('data/easy/dev.csv', index=False)\n",
    "test_df.to_csv('data/easy/test.csv', index=False)"
   ]
  },
  {
   "cell_type": "code",
   "execution_count": null,
   "id": "16f037d6",
   "metadata": {},
   "outputs": [],
   "source": []
  }
 ],
 "metadata": {
  "kernelspec": {
   "display_name": "base",
   "language": "python",
   "name": "python3"
  },
  "language_info": {
   "codemirror_mode": {
    "name": "ipython",
    "version": 3
   },
   "file_extension": ".py",
   "mimetype": "text/x-python",
   "name": "python",
   "nbconvert_exporter": "python",
   "pygments_lexer": "ipython3",
   "version": "3.13.5"
  }
 },
 "nbformat": 4,
 "nbformat_minor": 5
}
